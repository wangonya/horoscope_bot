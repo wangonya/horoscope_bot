{
 "cells": [
  {
   "cell_type": "code",
   "execution_count": 2,
   "metadata": {
    "pycharm": {
     "is_executing": false
    }
   },
   "outputs": [],
   "source": [
    "from rasa_nlu.training_data import load_data\n",
    "from rasa_nlu.model import Trainer, Interpreter\n",
    "from rasa_nlu import config\n",
    "\n",
    "def train_horoscopebot(data_json, config_file, model_dir):\n",
    "    training_data = load_data(data_json)\n",
    "    trainer = Trainer(config.load(config_file))\n",
    "    trainer.train(training_data)\n",
    "    model_directory = trainer.persist(model_dir, fixed_model_name='horoscopebot')\n",
    "    \n",
    "def predict_intent(text):\n",
    "    interpreter = Interpreter.load('./models/nlu/default/horoscopebot')\n",
    "    print(interpreter.parse(text))"
   ]
  },
  {
   "cell_type": "code",
   "execution_count": null,
   "outputs": [],
   "source": [
    "train_horoscopebot('./data/data.json', './config.json', './models/nlu')"
   ],
   "metadata": {
    "collapsed": false,
    "pycharm": {
     "name": "#%%\n"
    }
   }
  },
  {
   "cell_type": "code",
   "execution_count": 3,
   "outputs": [
    {
     "name": "stderr",
     "text": [
      "/home/wangonya/code/horoscope_bot/env/lib/python3.7/site-packages/tensorflow/python/framework/dtypes.py:516: FutureWarning: Passing (type, 1) or '1type' as a synonym of type is deprecated; in a future version of numpy, it will be understood as (type, (1,)) / '(1,)type'.\n  _np_qint8 = np.dtype([(\"qint8\", np.int8, 1)])\n/home/wangonya/code/horoscope_bot/env/lib/python3.7/site-packages/tensorflow/python/framework/dtypes.py:517: FutureWarning: Passing (type, 1) or '1type' as a synonym of type is deprecated; in a future version of numpy, it will be understood as (type, (1,)) / '(1,)type'.\n  _np_quint8 = np.dtype([(\"quint8\", np.uint8, 1)])\n/home/wangonya/code/horoscope_bot/env/lib/python3.7/site-packages/tensorflow/python/framework/dtypes.py:518: FutureWarning: Passing (type, 1) or '1type' as a synonym of type is deprecated; in a future version of numpy, it will be understood as (type, (1,)) / '(1,)type'.\n  _np_qint16 = np.dtype([(\"qint16\", np.int16, 1)])\n/home/wangonya/code/horoscope_bot/env/lib/python3.7/site-packages/tensorflow/python/framework/dtypes.py:519: FutureWarning: Passing (type, 1) or '1type' as a synonym of type is deprecated; in a future version of numpy, it will be understood as (type, (1,)) / '(1,)type'.\n  _np_quint16 = np.dtype([(\"quint16\", np.uint16, 1)])\n/home/wangonya/code/horoscope_bot/env/lib/python3.7/site-packages/tensorflow/python/framework/dtypes.py:520: FutureWarning: Passing (type, 1) or '1type' as a synonym of type is deprecated; in a future version of numpy, it will be understood as (type, (1,)) / '(1,)type'.\n  _np_qint32 = np.dtype([(\"qint32\", np.int32, 1)])\n/home/wangonya/code/horoscope_bot/env/lib/python3.7/site-packages/tensorflow/python/framework/dtypes.py:525: FutureWarning: Passing (type, 1) or '1type' as a synonym of type is deprecated; in a future version of numpy, it will be understood as (type, (1,)) / '(1,)type'.\n  np_resource = np.dtype([(\"resource\", np.ubyte, 1)])\n",
      "/home/wangonya/code/horoscope_bot/env/lib/python3.7/site-packages/tensorboard/compat/tensorflow_stub/dtypes.py:541: FutureWarning: Passing (type, 1) or '1type' as a synonym of type is deprecated; in a future version of numpy, it will be understood as (type, (1,)) / '(1,)type'.\n  _np_qint8 = np.dtype([(\"qint8\", np.int8, 1)])\n/home/wangonya/code/horoscope_bot/env/lib/python3.7/site-packages/tensorboard/compat/tensorflow_stub/dtypes.py:542: FutureWarning: Passing (type, 1) or '1type' as a synonym of type is deprecated; in a future version of numpy, it will be understood as (type, (1,)) / '(1,)type'.\n  _np_quint8 = np.dtype([(\"quint8\", np.uint8, 1)])\n/home/wangonya/code/horoscope_bot/env/lib/python3.7/site-packages/tensorboard/compat/tensorflow_stub/dtypes.py:543: FutureWarning: Passing (type, 1) or '1type' as a synonym of type is deprecated; in a future version of numpy, it will be understood as (type, (1,)) / '(1,)type'.\n  _np_qint16 = np.dtype([(\"qint16\", np.int16, 1)])\n/home/wangonya/code/horoscope_bot/env/lib/python3.7/site-packages/tensorboard/compat/tensorflow_stub/dtypes.py:544: FutureWarning: Passing (type, 1) or '1type' as a synonym of type is deprecated; in a future version of numpy, it will be understood as (type, (1,)) / '(1,)type'.\n  _np_quint16 = np.dtype([(\"quint16\", np.uint16, 1)])\n/home/wangonya/code/horoscope_bot/env/lib/python3.7/site-packages/tensorboard/compat/tensorflow_stub/dtypes.py:545: FutureWarning: Passing (type, 1) or '1type' as a synonym of type is deprecated; in a future version of numpy, it will be understood as (type, (1,)) / '(1,)type'.\n  _np_qint32 = np.dtype([(\"qint32\", np.int32, 1)])\n/home/wangonya/code/horoscope_bot/env/lib/python3.7/site-packages/tensorboard/compat/tensorflow_stub/dtypes.py:550: FutureWarning: Passing (type, 1) or '1type' as a synonym of type is deprecated; in a future version of numpy, it will be understood as (type, (1,)) / '(1,)type'.\n  np_resource = np.dtype([(\"resource\", np.ubyte, 1)])\n"
     ],
     "output_type": "stream"
    },
    {
     "name": "stdout",
     "text": [
      "WARNING:tensorflow:From /home/wangonya/code/horoscope_bot/env/lib/python3.7/site-packages/rasa_nlu/classifiers/embedding_intent_classifier.py:678: The name tf.Session is deprecated. Please use tf.compat.v1.Session instead.\n\n",
      "WARNING:tensorflow:From /home/wangonya/code/horoscope_bot/env/lib/python3.7/site-packages/rasa_nlu/classifiers/embedding_intent_classifier.py:679: The name tf.train.import_meta_graph is deprecated. Please use tf.compat.v1.train.import_meta_graph instead.\n\n",
      "WARNING:tensorflow:From /home/wangonya/code/horoscope_bot/env/lib/python3.7/site-packages/tensorflow/python/training/saver.py:1276: checkpoint_exists (from tensorflow.python.training.checkpoint_management) is deprecated and will be removed in a future version.\nInstructions for updating:\nUse standard file APIs to check for files with this prefix.\n",
      "INFO:tensorflow:Restoring parameters from ./models/nlu/default/horoscopebot/component_5_EmbeddingIntentClassifier.ckpt\n",
      "WARNING:tensorflow:From /home/wangonya/code/horoscope_bot/env/lib/python3.7/site-packages/rasa_nlu/classifiers/embedding_intent_classifier.py:683: The name tf.get_collection is deprecated. Please use tf.compat.v1.get_collection instead.\n\n",
      "{'intent': {'name': 'get_horoscope', 'confidence': 0.9412121176719666}, 'entities': [], 'intent_ranking': [{'name': 'get_horoscope', 'confidence': 0.9412121176719666}, {'name': 'subscription', 'confidence': 0.00927937775850296}, {'name': 'dob_intent', 'confidence': 0.0}, {'name': 'greeting', 'confidence': 0.0}], 'text': 'I am looking for my horoscope. Can you help me?'}\n"
     ],
     "output_type": "stream"
    }
   ],
   "source": [
    "predict_intent(\"I am looking for my horoscope. Can you help me?\")"
   ],
   "metadata": {
    "collapsed": false,
    "pycharm": {
     "name": "#%%\n",
     "is_executing": false
    }
   }
  },
  {
   "cell_type": "code",
   "execution_count": 4,
   "outputs": [
    {
     "name": "stdout",
     "text": [
      "INFO:tensorflow:Restoring parameters from ./models/nlu/default/horoscopebot/component_5_EmbeddingIntentClassifier.ckpt\n",
      "{'intent': {'name': 'get_horoscope', 'confidence': 0.594567596912384}, 'entities': [], 'intent_ranking': [{'name': 'get_horoscope', 'confidence': 0.594567596912384}, {'name': 'subscription', 'confidence': 0.4765090048313141}, {'name': 'greeting', 'confidence': 0.3026925027370453}, {'name': 'dob_intent', 'confidence': 0.0}], 'text': 'Please add me to the daily subscription.'}\n"
     ],
     "output_type": "stream"
    }
   ],
   "source": [
    "predict_intent(\"Please add me to the daily subscription.\")\n"
   ],
   "metadata": {
    "collapsed": false,
    "pycharm": {
     "name": "#%%\n",
     "is_executing": false
    }
   }
  }
 ],
 "metadata": {
  "kernelspec": {
   "display_name": "Python 3",
   "language": "python",
   "name": "python3"
  },
  "language_info": {
   "codemirror_mode": {
    "name": "ipython",
    "version": 3
   },
   "file_extension": ".py",
   "mimetype": "text/x-python",
   "name": "python",
   "nbconvert_exporter": "python",
   "pygments_lexer": "ipython3",
   "version": "3.7.3"
  },
  "pycharm": {
   "stem_cell": {
    "cell_type": "raw",
    "source": [],
    "metadata": {
     "collapsed": false
    }
   }
  }
 },
 "nbformat": 4,
 "nbformat_minor": 2
}